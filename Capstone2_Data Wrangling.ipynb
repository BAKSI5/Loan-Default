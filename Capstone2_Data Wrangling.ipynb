{
 "cells": [
  {
   "cell_type": "markdown",
   "metadata": {},
   "source": [
    "# Data wrangling<a id='2_Data_wrangling'></a>"
   ]
  },
  {
   "cell_type": "markdown",
   "metadata": {},
   "source": [
    "\n"
   ]
  },
  {
   "cell_type": "markdown",
   "metadata": {},
   "source": [
    "## Introduction<a id='2.2_Introduction'></a>"
   ]
  },
  {
   "cell_type": "markdown",
   "metadata": {},
   "source": [
    "Lending loans is a significant source of revenue for banks, but it is not without risk. Loan defaults by borrowers are a common occurrence. To address this issue, we can use machine learning techniques to develop a robust model that can predict whether a new borrower is likely to default on their loan. The banks have gathered extensive data on past borrowers, and we can help to create a powerful machine learning model for this purpose.\n",
    "\n",
    "The dataset provided is vast and includes various deterministic factors such as borrower's income, gender, loan purpose, and more. However, the dataset has issues with multicollinearity and missing values and we will try to fix these issues in this notebook."
   ]
  },
  {
   "cell_type": "markdown",
   "metadata": {},
   "source": [
    "## 1. Data Collection<a id='2.3_Imports'></a>"
   ]
  },
  {
   "cell_type": "code",
   "execution_count": 1,
   "metadata": {},
   "outputs": [],
   "source": [
    "#Import pandas, matplotlib.pyplot, and seaborn in the correct lines below\n",
    "import pandas as pd\n",
    "import numpy as np\n",
    "import matplotlib.pyplot as plt\n",
    "import seaborn as sns\n",
    "from sklearn.impute import KNNImputer\n",
    "import os\n"
   ]
  },
  {
   "cell_type": "markdown",
   "metadata": {},
   "source": [
    "## 1.1 Load The Loan Default Data<a id='2.5_Load_The_Ski_Resort_Data'></a>"
   ]
  },
  {
   "cell_type": "code",
   "execution_count": 2,
   "metadata": {},
   "outputs": [],
   "source": [
    "# the supplied CSV data file is the raw_data directory\n",
    "loan_data = pd.read_csv('C:/Springboard/Capstone2/Loan_Default.csv')"
   ]
  },
  {
   "cell_type": "markdown",
   "metadata": {},
   "source": [
    "Good first steps in auditing the data are the info method and displaying the first few records with head."
   ]
  },
  {
   "cell_type": "code",
   "execution_count": 3,
   "metadata": {},
   "outputs": [
    {
     "name": "stdout",
     "output_type": "stream",
     "text": [
      "<class 'pandas.core.frame.DataFrame'>\n",
      "RangeIndex: 148670 entries, 0 to 148669\n",
      "Data columns (total 34 columns):\n",
      " #   Column                     Non-Null Count   Dtype  \n",
      "---  ------                     --------------   -----  \n",
      " 0   ID                         148670 non-null  int64  \n",
      " 1   year                       148670 non-null  int64  \n",
      " 2   loan_limit                 145326 non-null  object \n",
      " 3   Gender                     148670 non-null  object \n",
      " 4   approv_in_adv              147762 non-null  object \n",
      " 5   loan_type                  148670 non-null  object \n",
      " 6   loan_purpose               148536 non-null  object \n",
      " 7   Credit_Worthiness          148670 non-null  object \n",
      " 8   open_credit                148670 non-null  object \n",
      " 9   business_or_commercial     148670 non-null  object \n",
      " 10  loan_amount                148670 non-null  int64  \n",
      " 11  rate_of_interest           112231 non-null  float64\n",
      " 12  Interest_rate_spread       112031 non-null  float64\n",
      " 13  Upfront_charges            109028 non-null  float64\n",
      " 14  term                       148629 non-null  float64\n",
      " 15  Neg_ammortization          148549 non-null  object \n",
      " 16  interest_only              148670 non-null  object \n",
      " 17  lump_sum_payment           148670 non-null  object \n",
      " 18  property_value             133572 non-null  float64\n",
      " 19  construction_type          148670 non-null  object \n",
      " 20  occupancy_type             148670 non-null  object \n",
      " 21  Secured_by                 148670 non-null  object \n",
      " 22  total_units                148670 non-null  object \n",
      " 23  income                     139520 non-null  float64\n",
      " 24  credit_type                148670 non-null  object \n",
      " 25  Credit_Score               148670 non-null  int64  \n",
      " 26  co-applicant_credit_type   148670 non-null  object \n",
      " 27  age                        148470 non-null  object \n",
      " 28  submission_of_application  148470 non-null  object \n",
      " 29  LTV                        133572 non-null  float64\n",
      " 30  Region                     148670 non-null  object \n",
      " 31  Security_Type              148670 non-null  object \n",
      " 32  Status                     148670 non-null  int64  \n",
      " 33  dtir1                      124549 non-null  float64\n",
      "dtypes: float64(8), int64(5), object(21)\n",
      "memory usage: 38.6+ MB\n"
     ]
    }
   ],
   "source": [
    "#Call the info method on loan_data to see a summary of the file\n",
    "loan_data.info()"
   ]
  },
  {
   "cell_type": "code",
   "execution_count": 4,
   "metadata": {
    "scrolled": true
   },
   "outputs": [
    {
     "data": {
      "text/html": [
       "<div>\n",
       "<style scoped>\n",
       "    .dataframe tbody tr th:only-of-type {\n",
       "        vertical-align: middle;\n",
       "    }\n",
       "\n",
       "    .dataframe tbody tr th {\n",
       "        vertical-align: top;\n",
       "    }\n",
       "\n",
       "    .dataframe thead th {\n",
       "        text-align: right;\n",
       "    }\n",
       "</style>\n",
       "<table border=\"1\" class=\"dataframe\">\n",
       "  <thead>\n",
       "    <tr style=\"text-align: right;\">\n",
       "      <th></th>\n",
       "      <th>ID</th>\n",
       "      <th>year</th>\n",
       "      <th>loan_limit</th>\n",
       "      <th>Gender</th>\n",
       "      <th>approv_in_adv</th>\n",
       "      <th>loan_type</th>\n",
       "      <th>loan_purpose</th>\n",
       "      <th>Credit_Worthiness</th>\n",
       "      <th>open_credit</th>\n",
       "      <th>business_or_commercial</th>\n",
       "      <th>...</th>\n",
       "      <th>credit_type</th>\n",
       "      <th>Credit_Score</th>\n",
       "      <th>co-applicant_credit_type</th>\n",
       "      <th>age</th>\n",
       "      <th>submission_of_application</th>\n",
       "      <th>LTV</th>\n",
       "      <th>Region</th>\n",
       "      <th>Security_Type</th>\n",
       "      <th>Status</th>\n",
       "      <th>dtir1</th>\n",
       "    </tr>\n",
       "  </thead>\n",
       "  <tbody>\n",
       "    <tr>\n",
       "      <th>0</th>\n",
       "      <td>24890</td>\n",
       "      <td>2019</td>\n",
       "      <td>cf</td>\n",
       "      <td>Sex Not Available</td>\n",
       "      <td>nopre</td>\n",
       "      <td>type1</td>\n",
       "      <td>p1</td>\n",
       "      <td>l1</td>\n",
       "      <td>nopc</td>\n",
       "      <td>nob/c</td>\n",
       "      <td>...</td>\n",
       "      <td>EXP</td>\n",
       "      <td>758</td>\n",
       "      <td>CIB</td>\n",
       "      <td>25-34</td>\n",
       "      <td>to_inst</td>\n",
       "      <td>98.728814</td>\n",
       "      <td>south</td>\n",
       "      <td>direct</td>\n",
       "      <td>1</td>\n",
       "      <td>45.0</td>\n",
       "    </tr>\n",
       "    <tr>\n",
       "      <th>1</th>\n",
       "      <td>24891</td>\n",
       "      <td>2019</td>\n",
       "      <td>cf</td>\n",
       "      <td>Male</td>\n",
       "      <td>nopre</td>\n",
       "      <td>type2</td>\n",
       "      <td>p1</td>\n",
       "      <td>l1</td>\n",
       "      <td>nopc</td>\n",
       "      <td>b/c</td>\n",
       "      <td>...</td>\n",
       "      <td>EQUI</td>\n",
       "      <td>552</td>\n",
       "      <td>EXP</td>\n",
       "      <td>55-64</td>\n",
       "      <td>to_inst</td>\n",
       "      <td>NaN</td>\n",
       "      <td>North</td>\n",
       "      <td>direct</td>\n",
       "      <td>1</td>\n",
       "      <td>NaN</td>\n",
       "    </tr>\n",
       "    <tr>\n",
       "      <th>2</th>\n",
       "      <td>24892</td>\n",
       "      <td>2019</td>\n",
       "      <td>cf</td>\n",
       "      <td>Male</td>\n",
       "      <td>pre</td>\n",
       "      <td>type1</td>\n",
       "      <td>p1</td>\n",
       "      <td>l1</td>\n",
       "      <td>nopc</td>\n",
       "      <td>nob/c</td>\n",
       "      <td>...</td>\n",
       "      <td>EXP</td>\n",
       "      <td>834</td>\n",
       "      <td>CIB</td>\n",
       "      <td>35-44</td>\n",
       "      <td>to_inst</td>\n",
       "      <td>80.019685</td>\n",
       "      <td>south</td>\n",
       "      <td>direct</td>\n",
       "      <td>0</td>\n",
       "      <td>46.0</td>\n",
       "    </tr>\n",
       "    <tr>\n",
       "      <th>3</th>\n",
       "      <td>24893</td>\n",
       "      <td>2019</td>\n",
       "      <td>cf</td>\n",
       "      <td>Male</td>\n",
       "      <td>nopre</td>\n",
       "      <td>type1</td>\n",
       "      <td>p4</td>\n",
       "      <td>l1</td>\n",
       "      <td>nopc</td>\n",
       "      <td>nob/c</td>\n",
       "      <td>...</td>\n",
       "      <td>EXP</td>\n",
       "      <td>587</td>\n",
       "      <td>CIB</td>\n",
       "      <td>45-54</td>\n",
       "      <td>not_inst</td>\n",
       "      <td>69.376900</td>\n",
       "      <td>North</td>\n",
       "      <td>direct</td>\n",
       "      <td>0</td>\n",
       "      <td>42.0</td>\n",
       "    </tr>\n",
       "    <tr>\n",
       "      <th>4</th>\n",
       "      <td>24894</td>\n",
       "      <td>2019</td>\n",
       "      <td>cf</td>\n",
       "      <td>Joint</td>\n",
       "      <td>pre</td>\n",
       "      <td>type1</td>\n",
       "      <td>p1</td>\n",
       "      <td>l1</td>\n",
       "      <td>nopc</td>\n",
       "      <td>nob/c</td>\n",
       "      <td>...</td>\n",
       "      <td>CRIF</td>\n",
       "      <td>602</td>\n",
       "      <td>EXP</td>\n",
       "      <td>25-34</td>\n",
       "      <td>not_inst</td>\n",
       "      <td>91.886544</td>\n",
       "      <td>North</td>\n",
       "      <td>direct</td>\n",
       "      <td>0</td>\n",
       "      <td>39.0</td>\n",
       "    </tr>\n",
       "  </tbody>\n",
       "</table>\n",
       "<p>5 rows × 34 columns</p>\n",
       "</div>"
      ],
      "text/plain": [
       "      ID  year loan_limit             Gender approv_in_adv loan_type  \\\n",
       "0  24890  2019         cf  Sex Not Available         nopre     type1   \n",
       "1  24891  2019         cf               Male         nopre     type2   \n",
       "2  24892  2019         cf               Male           pre     type1   \n",
       "3  24893  2019         cf               Male         nopre     type1   \n",
       "4  24894  2019         cf              Joint           pre     type1   \n",
       "\n",
       "  loan_purpose Credit_Worthiness open_credit business_or_commercial  ...  \\\n",
       "0           p1                l1        nopc                  nob/c  ...   \n",
       "1           p1                l1        nopc                    b/c  ...   \n",
       "2           p1                l1        nopc                  nob/c  ...   \n",
       "3           p4                l1        nopc                  nob/c  ...   \n",
       "4           p1                l1        nopc                  nob/c  ...   \n",
       "\n",
       "   credit_type  Credit_Score  co-applicant_credit_type    age  \\\n",
       "0          EXP           758                       CIB  25-34   \n",
       "1         EQUI           552                       EXP  55-64   \n",
       "2          EXP           834                       CIB  35-44   \n",
       "3          EXP           587                       CIB  45-54   \n",
       "4         CRIF           602                       EXP  25-34   \n",
       "\n",
       "   submission_of_application        LTV Region Security_Type  Status dtir1  \n",
       "0                    to_inst  98.728814  south        direct       1  45.0  \n",
       "1                    to_inst        NaN  North        direct       1   NaN  \n",
       "2                    to_inst  80.019685  south        direct       0  46.0  \n",
       "3                   not_inst  69.376900  North        direct       0  42.0  \n",
       "4                   not_inst  91.886544  North        direct       0  39.0  \n",
       "\n",
       "[5 rows x 34 columns]"
      ]
     },
     "execution_count": 4,
     "metadata": {},
     "output_type": "execute_result"
    }
   ],
   "source": [
    "#Call the head method on loan_data to print the first several rows of the data\n",
    "loan_data.head()"
   ]
  },
  {
   "cell_type": "markdown",
   "metadata": {},
   "source": [
    "## 2. Data Definition<a id='2.6_Explore_The_Data'></a>"
   ]
  },
  {
   "cell_type": "markdown",
   "metadata": {},
   "source": [
    "### 2.1 Explore the features of our data<a id='2.6.1_Find_Your_Resort_Of_Interest'></a>"
   ]
  },
  {
   "cell_type": "code",
   "execution_count": 5,
   "metadata": {},
   "outputs": [
    {
     "data": {
      "text/html": [
       "<div>\n",
       "<style scoped>\n",
       "    .dataframe tbody tr th:only-of-type {\n",
       "        vertical-align: middle;\n",
       "    }\n",
       "\n",
       "    .dataframe tbody tr th {\n",
       "        vertical-align: top;\n",
       "    }\n",
       "\n",
       "    .dataframe thead th {\n",
       "        text-align: right;\n",
       "    }\n",
       "</style>\n",
       "<table border=\"1\" class=\"dataframe\">\n",
       "  <thead>\n",
       "    <tr style=\"text-align: right;\">\n",
       "      <th></th>\n",
       "      <th>ID</th>\n",
       "      <th>year</th>\n",
       "      <th>loan_limit</th>\n",
       "      <th>Gender</th>\n",
       "      <th>approv_in_adv</th>\n",
       "      <th>loan_type</th>\n",
       "      <th>loan_purpose</th>\n",
       "      <th>Credit_Worthiness</th>\n",
       "      <th>open_credit</th>\n",
       "      <th>business_or_commercial</th>\n",
       "      <th>loan_amount</th>\n",
       "      <th>rate_of_interest</th>\n",
       "      <th>Interest_rate_spread</th>\n",
       "      <th>Upfront_charges</th>\n",
       "      <th>term</th>\n",
       "      <th>Neg_ammortization</th>\n",
       "      <th>interest_only</th>\n",
       "      <th>lump_sum_payment</th>\n",
       "      <th>property_value</th>\n",
       "      <th>construction_type</th>\n",
       "      <th>occupancy_type</th>\n",
       "      <th>Secured_by</th>\n",
       "      <th>total_units</th>\n",
       "      <th>income</th>\n",
       "      <th>credit_type</th>\n",
       "      <th>Credit_Score</th>\n",
       "      <th>co-applicant_credit_type</th>\n",
       "      <th>age</th>\n",
       "      <th>submission_of_application</th>\n",
       "      <th>LTV</th>\n",
       "      <th>Region</th>\n",
       "      <th>Security_Type</th>\n",
       "      <th>Status</th>\n",
       "      <th>dtir1</th>\n",
       "    </tr>\n",
       "  </thead>\n",
       "  <tbody>\n",
       "    <tr>\n",
       "      <th>0</th>\n",
       "      <td>24890</td>\n",
       "      <td>2019</td>\n",
       "      <td>cf</td>\n",
       "      <td>Sex Not Available</td>\n",
       "      <td>nopre</td>\n",
       "      <td>type1</td>\n",
       "      <td>p1</td>\n",
       "      <td>l1</td>\n",
       "      <td>nopc</td>\n",
       "      <td>nob/c</td>\n",
       "      <td>116500</td>\n",
       "      <td>NaN</td>\n",
       "      <td>NaN</td>\n",
       "      <td>NaN</td>\n",
       "      <td>360.0</td>\n",
       "      <td>not_neg</td>\n",
       "      <td>not_int</td>\n",
       "      <td>not_lpsm</td>\n",
       "      <td>118000.0</td>\n",
       "      <td>sb</td>\n",
       "      <td>pr</td>\n",
       "      <td>home</td>\n",
       "      <td>1U</td>\n",
       "      <td>1740.0</td>\n",
       "      <td>EXP</td>\n",
       "      <td>758</td>\n",
       "      <td>CIB</td>\n",
       "      <td>25-34</td>\n",
       "      <td>to_inst</td>\n",
       "      <td>98.728814</td>\n",
       "      <td>south</td>\n",
       "      <td>direct</td>\n",
       "      <td>1</td>\n",
       "      <td>45.0</td>\n",
       "    </tr>\n",
       "    <tr>\n",
       "      <th>1</th>\n",
       "      <td>24891</td>\n",
       "      <td>2019</td>\n",
       "      <td>cf</td>\n",
       "      <td>Male</td>\n",
       "      <td>nopre</td>\n",
       "      <td>type2</td>\n",
       "      <td>p1</td>\n",
       "      <td>l1</td>\n",
       "      <td>nopc</td>\n",
       "      <td>b/c</td>\n",
       "      <td>206500</td>\n",
       "      <td>NaN</td>\n",
       "      <td>NaN</td>\n",
       "      <td>NaN</td>\n",
       "      <td>360.0</td>\n",
       "      <td>not_neg</td>\n",
       "      <td>not_int</td>\n",
       "      <td>lpsm</td>\n",
       "      <td>NaN</td>\n",
       "      <td>sb</td>\n",
       "      <td>pr</td>\n",
       "      <td>home</td>\n",
       "      <td>1U</td>\n",
       "      <td>4980.0</td>\n",
       "      <td>EQUI</td>\n",
       "      <td>552</td>\n",
       "      <td>EXP</td>\n",
       "      <td>55-64</td>\n",
       "      <td>to_inst</td>\n",
       "      <td>NaN</td>\n",
       "      <td>North</td>\n",
       "      <td>direct</td>\n",
       "      <td>1</td>\n",
       "      <td>NaN</td>\n",
       "    </tr>\n",
       "    <tr>\n",
       "      <th>2</th>\n",
       "      <td>24892</td>\n",
       "      <td>2019</td>\n",
       "      <td>cf</td>\n",
       "      <td>Male</td>\n",
       "      <td>pre</td>\n",
       "      <td>type1</td>\n",
       "      <td>p1</td>\n",
       "      <td>l1</td>\n",
       "      <td>nopc</td>\n",
       "      <td>nob/c</td>\n",
       "      <td>406500</td>\n",
       "      <td>4.56</td>\n",
       "      <td>0.2000</td>\n",
       "      <td>595.0</td>\n",
       "      <td>360.0</td>\n",
       "      <td>neg_amm</td>\n",
       "      <td>not_int</td>\n",
       "      <td>not_lpsm</td>\n",
       "      <td>508000.0</td>\n",
       "      <td>sb</td>\n",
       "      <td>pr</td>\n",
       "      <td>home</td>\n",
       "      <td>1U</td>\n",
       "      <td>9480.0</td>\n",
       "      <td>EXP</td>\n",
       "      <td>834</td>\n",
       "      <td>CIB</td>\n",
       "      <td>35-44</td>\n",
       "      <td>to_inst</td>\n",
       "      <td>80.019685</td>\n",
       "      <td>south</td>\n",
       "      <td>direct</td>\n",
       "      <td>0</td>\n",
       "      <td>46.0</td>\n",
       "    </tr>\n",
       "    <tr>\n",
       "      <th>3</th>\n",
       "      <td>24893</td>\n",
       "      <td>2019</td>\n",
       "      <td>cf</td>\n",
       "      <td>Male</td>\n",
       "      <td>nopre</td>\n",
       "      <td>type1</td>\n",
       "      <td>p4</td>\n",
       "      <td>l1</td>\n",
       "      <td>nopc</td>\n",
       "      <td>nob/c</td>\n",
       "      <td>456500</td>\n",
       "      <td>4.25</td>\n",
       "      <td>0.6810</td>\n",
       "      <td>NaN</td>\n",
       "      <td>360.0</td>\n",
       "      <td>not_neg</td>\n",
       "      <td>not_int</td>\n",
       "      <td>not_lpsm</td>\n",
       "      <td>658000.0</td>\n",
       "      <td>sb</td>\n",
       "      <td>pr</td>\n",
       "      <td>home</td>\n",
       "      <td>1U</td>\n",
       "      <td>11880.0</td>\n",
       "      <td>EXP</td>\n",
       "      <td>587</td>\n",
       "      <td>CIB</td>\n",
       "      <td>45-54</td>\n",
       "      <td>not_inst</td>\n",
       "      <td>69.376900</td>\n",
       "      <td>North</td>\n",
       "      <td>direct</td>\n",
       "      <td>0</td>\n",
       "      <td>42.0</td>\n",
       "    </tr>\n",
       "    <tr>\n",
       "      <th>4</th>\n",
       "      <td>24894</td>\n",
       "      <td>2019</td>\n",
       "      <td>cf</td>\n",
       "      <td>Joint</td>\n",
       "      <td>pre</td>\n",
       "      <td>type1</td>\n",
       "      <td>p1</td>\n",
       "      <td>l1</td>\n",
       "      <td>nopc</td>\n",
       "      <td>nob/c</td>\n",
       "      <td>696500</td>\n",
       "      <td>4.00</td>\n",
       "      <td>0.3042</td>\n",
       "      <td>0.0</td>\n",
       "      <td>360.0</td>\n",
       "      <td>not_neg</td>\n",
       "      <td>not_int</td>\n",
       "      <td>not_lpsm</td>\n",
       "      <td>758000.0</td>\n",
       "      <td>sb</td>\n",
       "      <td>pr</td>\n",
       "      <td>home</td>\n",
       "      <td>1U</td>\n",
       "      <td>10440.0</td>\n",
       "      <td>CRIF</td>\n",
       "      <td>602</td>\n",
       "      <td>EXP</td>\n",
       "      <td>25-34</td>\n",
       "      <td>not_inst</td>\n",
       "      <td>91.886544</td>\n",
       "      <td>North</td>\n",
       "      <td>direct</td>\n",
       "      <td>0</td>\n",
       "      <td>39.0</td>\n",
       "    </tr>\n",
       "  </tbody>\n",
       "</table>\n",
       "</div>"
      ],
      "text/plain": [
       "      ID  year loan_limit             Gender approv_in_adv loan_type  \\\n",
       "0  24890  2019         cf  Sex Not Available         nopre     type1   \n",
       "1  24891  2019         cf               Male         nopre     type2   \n",
       "2  24892  2019         cf               Male           pre     type1   \n",
       "3  24893  2019         cf               Male         nopre     type1   \n",
       "4  24894  2019         cf              Joint           pre     type1   \n",
       "\n",
       "  loan_purpose Credit_Worthiness open_credit business_or_commercial  \\\n",
       "0           p1                l1        nopc                  nob/c   \n",
       "1           p1                l1        nopc                    b/c   \n",
       "2           p1                l1        nopc                  nob/c   \n",
       "3           p4                l1        nopc                  nob/c   \n",
       "4           p1                l1        nopc                  nob/c   \n",
       "\n",
       "   loan_amount  rate_of_interest  Interest_rate_spread  Upfront_charges  \\\n",
       "0       116500               NaN                   NaN              NaN   \n",
       "1       206500               NaN                   NaN              NaN   \n",
       "2       406500              4.56                0.2000            595.0   \n",
       "3       456500              4.25                0.6810              NaN   \n",
       "4       696500              4.00                0.3042              0.0   \n",
       "\n",
       "    term Neg_ammortization interest_only lump_sum_payment  property_value  \\\n",
       "0  360.0           not_neg       not_int         not_lpsm        118000.0   \n",
       "1  360.0           not_neg       not_int             lpsm             NaN   \n",
       "2  360.0           neg_amm       not_int         not_lpsm        508000.0   \n",
       "3  360.0           not_neg       not_int         not_lpsm        658000.0   \n",
       "4  360.0           not_neg       not_int         not_lpsm        758000.0   \n",
       "\n",
       "  construction_type occupancy_type Secured_by total_units   income  \\\n",
       "0                sb             pr       home          1U   1740.0   \n",
       "1                sb             pr       home          1U   4980.0   \n",
       "2                sb             pr       home          1U   9480.0   \n",
       "3                sb             pr       home          1U  11880.0   \n",
       "4                sb             pr       home          1U  10440.0   \n",
       "\n",
       "  credit_type  Credit_Score co-applicant_credit_type    age  \\\n",
       "0         EXP           758                      CIB  25-34   \n",
       "1        EQUI           552                      EXP  55-64   \n",
       "2         EXP           834                      CIB  35-44   \n",
       "3         EXP           587                      CIB  45-54   \n",
       "4        CRIF           602                      EXP  25-34   \n",
       "\n",
       "  submission_of_application        LTV Region Security_Type  Status  dtir1  \n",
       "0                   to_inst  98.728814  south        direct       1   45.0  \n",
       "1                   to_inst        NaN  North        direct       1    NaN  \n",
       "2                   to_inst  80.019685  south        direct       0   46.0  \n",
       "3                  not_inst  69.376900  North        direct       0   42.0  \n",
       "4                  not_inst  91.886544  North        direct       0   39.0  "
      ]
     },
     "execution_count": 5,
     "metadata": {},
     "output_type": "execute_result"
    }
   ],
   "source": [
    "#Set number of columns to display all 34 columns\n",
    "pd.set_option(\"display.max_columns\", loan_data.shape[-1]) \n",
    "loan_data.head(5)"
   ]
  },
  {
   "cell_type": "code",
   "execution_count": 6,
   "metadata": {},
   "outputs": [
    {
     "data": {
      "text/plain": [
       "Index(['ID', 'year', 'loan_limit', 'Gender', 'approv_in_adv', 'loan_type',\n",
       "       'loan_purpose', 'Credit_Worthiness', 'open_credit',\n",
       "       'business_or_commercial', 'loan_amount', 'rate_of_interest',\n",
       "       'Interest_rate_spread', 'Upfront_charges', 'term', 'Neg_ammortization',\n",
       "       'interest_only', 'lump_sum_payment', 'property_value',\n",
       "       'construction_type', 'occupancy_type', 'Secured_by', 'total_units',\n",
       "       'income', 'credit_type', 'Credit_Score', 'co-applicant_credit_type',\n",
       "       'age', 'submission_of_application', 'LTV', 'Region', 'Security_Type',\n",
       "       'Status', 'dtir1'],\n",
       "      dtype='object')"
      ]
     },
     "execution_count": 6,
     "metadata": {},
     "output_type": "execute_result"
    }
   ],
   "source": [
    "loan_data.columns"
   ]
  },
  {
   "cell_type": "code",
   "execution_count": 7,
   "metadata": {},
   "outputs": [],
   "source": [
    "#convert all features to lower case\n",
    "loan_data.columns= loan_data.columns.str.lower()"
   ]
  },
  {
   "cell_type": "code",
   "execution_count": 8,
   "metadata": {},
   "outputs": [
    {
     "data": {
      "text/plain": [
       "Index(['id', 'year', 'loan_limit', 'gender', 'approv_in_adv', 'loan_type',\n",
       "       'loan_purpose', 'credit_worthiness', 'open_credit',\n",
       "       'business_or_commercial', 'loan_amount', 'rate_of_interest',\n",
       "       'interest_rate_spread', 'upfront_charges', 'term', 'neg_ammortization',\n",
       "       'interest_only', 'lump_sum_payment', 'property_value',\n",
       "       'construction_type', 'occupancy_type', 'secured_by', 'total_units',\n",
       "       'income', 'credit_type', 'credit_score', 'co-applicant_credit_type',\n",
       "       'age', 'submission_of_application', 'ltv', 'region', 'security_type',\n",
       "       'status', 'dtir1'],\n",
       "      dtype='object')"
      ]
     },
     "execution_count": 8,
     "metadata": {},
     "output_type": "execute_result"
    }
   ],
   "source": [
    "#check result\n",
    "loan_data.columns"
   ]
  },
  {
   "cell_type": "markdown",
   "metadata": {},
   "source": [
    "### 2.2 Factors overview<a id='2.6.2_Number_Of_Missing_Values_By_Column'></a>"
   ]
  },
  {
   "cell_type": "markdown",
   "metadata": {},
   "source": [
    "Let look at some factors of loan application in detail:"
   ]
  },
  {
   "cell_type": "code",
   "execution_count": 9,
   "metadata": {},
   "outputs": [
    {
     "data": {
      "text/plain": [
       "3576500"
      ]
     },
     "execution_count": 9,
     "metadata": {},
     "output_type": "execute_result"
    }
   ],
   "source": [
    "loan_data['loan_amount'].max()"
   ]
  },
  {
   "cell_type": "code",
   "execution_count": 10,
   "metadata": {},
   "outputs": [
    {
     "data": {
      "text/plain": [
       "16500"
      ]
     },
     "execution_count": 10,
     "metadata": {},
     "output_type": "execute_result"
    }
   ],
   "source": [
    "loan_data['loan_amount'].min()"
   ]
  },
  {
   "cell_type": "code",
   "execution_count": 11,
   "metadata": {},
   "outputs": [
    {
     "data": {
      "text/plain": [
       "45-54    34720\n",
       "35-44    32818\n",
       "55-64    32534\n",
       "65-74    20744\n",
       "25-34    19142\n",
       ">74       7175\n",
       "<25       1337\n",
       "Name: age, dtype: int64"
      ]
     },
     "execution_count": 11,
     "metadata": {},
     "output_type": "execute_result"
    }
   ],
   "source": [
    "loan_data['age'].value_counts()"
   ]
  },
  {
   "cell_type": "code",
   "execution_count": 12,
   "metadata": {},
   "outputs": [
    {
     "data": {
      "text/plain": [
       "8.0"
      ]
     },
     "execution_count": 12,
     "metadata": {},
     "output_type": "execute_result"
    }
   ],
   "source": [
    "loan_data['rate_of_interest'].max()"
   ]
  },
  {
   "cell_type": "code",
   "execution_count": 13,
   "metadata": {},
   "outputs": [
    {
     "data": {
      "text/plain": [
       "0.0"
      ]
     },
     "execution_count": 13,
     "metadata": {},
     "output_type": "execute_result"
    }
   ],
   "source": [
    "#the factor we should pay attention for\n",
    "loan_data['rate_of_interest'].min()"
   ]
  },
  {
   "cell_type": "code",
   "execution_count": 14,
   "metadata": {},
   "outputs": [
    {
     "data": {
      "text/plain": [
       "4.045475804366537"
      ]
     },
     "execution_count": 14,
     "metadata": {},
     "output_type": "execute_result"
    }
   ],
   "source": [
    "loan_data['rate_of_interest'].mean()"
   ]
  },
  {
   "cell_type": "code",
   "execution_count": 15,
   "metadata": {},
   "outputs": [
    {
     "data": {
      "text/plain": [
       "0    112031\n",
       "1     36639\n",
       "Name: status, dtype: int64"
      ]
     },
     "execution_count": 15,
     "metadata": {},
     "output_type": "execute_result"
    }
   ],
   "source": [
    "loan_data['status'].value_counts()"
   ]
  },
  {
   "cell_type": "code",
   "execution_count": 16,
   "metadata": {},
   "outputs": [
    {
     "data": {
      "text/plain": [
       "16508000.0"
      ]
     },
     "execution_count": 16,
     "metadata": {},
     "output_type": "execute_result"
    }
   ],
   "source": [
    "loan_data['property_value'].max()"
   ]
  },
  {
   "cell_type": "code",
   "execution_count": 17,
   "metadata": {},
   "outputs": [
    {
     "data": {
      "text/plain": [
       "8000.0"
      ]
     },
     "execution_count": 17,
     "metadata": {},
     "output_type": "execute_result"
    }
   ],
   "source": [
    "loan_data['property_value'].min()"
   ]
  },
  {
   "cell_type": "code",
   "execution_count": 18,
   "metadata": {},
   "outputs": [
    {
     "data": {
      "text/plain": [
       "308000.0     2792\n",
       "258000.0     2763\n",
       "358000.0     2679\n",
       "408000.0     2537\n",
       "328000.0     2524\n",
       "             ... \n",
       "4648000.0       1\n",
       "3878000.0       1\n",
       "5758000.0       1\n",
       "2618000.0       1\n",
       "2698000.0       1\n",
       "Name: property_value, Length: 385, dtype: int64"
      ]
     },
     "execution_count": 18,
     "metadata": {},
     "output_type": "execute_result"
    }
   ],
   "source": [
    "loan_data['property_value'].value_counts()"
   ]
  },
  {
   "cell_type": "code",
   "execution_count": 19,
   "metadata": {},
   "outputs": [
    {
     "data": {
      "text/plain": [
       "578580.0"
      ]
     },
     "execution_count": 19,
     "metadata": {},
     "output_type": "execute_result"
    }
   ],
   "source": [
    "loan_data['income'].max()"
   ]
  },
  {
   "cell_type": "code",
   "execution_count": 20,
   "metadata": {},
   "outputs": [
    {
     "data": {
      "text/plain": [
       "0.0"
      ]
     },
     "execution_count": 20,
     "metadata": {},
     "output_type": "execute_result"
    }
   ],
   "source": [
    "loan_data['income'].min()"
   ]
  },
  {
   "cell_type": "code",
   "execution_count": 21,
   "metadata": {},
   "outputs": [
    {
     "data": {
      "text/plain": [
       "6957.338876146789"
      ]
     },
     "execution_count": 21,
     "metadata": {},
     "output_type": "execute_result"
    }
   ],
   "source": [
    "loan_data['income'].mean()"
   ]
  },
  {
   "cell_type": "markdown",
   "metadata": {},
   "source": [
    "## 3. Data Cleaning<a id='2.6_Explore_The_Data'></a>"
   ]
  },
  {
   "cell_type": "markdown",
   "metadata": {},
   "source": [
    "### 3.1 Duplicates and missing values<a id='2.6.2_Number_Of_Missing_Values_By_Column'></a>"
   ]
  },
  {
   "cell_type": "markdown",
   "metadata": {},
   "source": [
    "First we check for duplicated entries and delete and we find them."
   ]
  },
  {
   "cell_type": "code",
   "execution_count": 22,
   "metadata": {},
   "outputs": [
    {
     "data": {
      "text/plain": [
       "0"
      ]
     },
     "execution_count": 22,
     "metadata": {},
     "output_type": "execute_result"
    }
   ],
   "source": [
    "loan_data.duplicated().sum()"
   ]
  },
  {
   "cell_type": "markdown",
   "metadata": {},
   "source": [
    "Now check for missing values in each column."
   ]
  },
  {
   "cell_type": "code",
   "execution_count": 23,
   "metadata": {},
   "outputs": [
    {
     "data": {
      "text/html": [
       "<div>\n",
       "<style scoped>\n",
       "    .dataframe tbody tr th:only-of-type {\n",
       "        vertical-align: middle;\n",
       "    }\n",
       "\n",
       "    .dataframe tbody tr th {\n",
       "        vertical-align: top;\n",
       "    }\n",
       "\n",
       "    .dataframe thead th {\n",
       "        text-align: right;\n",
       "    }\n",
       "</style>\n",
       "<table border=\"1\" class=\"dataframe\">\n",
       "  <thead>\n",
       "    <tr style=\"text-align: right;\">\n",
       "      <th></th>\n",
       "      <th>count</th>\n",
       "      <th>%</th>\n",
       "    </tr>\n",
       "  </thead>\n",
       "  <tbody>\n",
       "    <tr>\n",
       "      <th>upfront_charges</th>\n",
       "      <td>39642</td>\n",
       "      <td>26.664425</td>\n",
       "    </tr>\n",
       "    <tr>\n",
       "      <th>interest_rate_spread</th>\n",
       "      <td>36639</td>\n",
       "      <td>24.644515</td>\n",
       "    </tr>\n",
       "    <tr>\n",
       "      <th>rate_of_interest</th>\n",
       "      <td>36439</td>\n",
       "      <td>24.509989</td>\n",
       "    </tr>\n",
       "    <tr>\n",
       "      <th>dtir1</th>\n",
       "      <td>24121</td>\n",
       "      <td>16.224524</td>\n",
       "    </tr>\n",
       "    <tr>\n",
       "      <th>ltv</th>\n",
       "      <td>15098</td>\n",
       "      <td>10.155378</td>\n",
       "    </tr>\n",
       "    <tr>\n",
       "      <th>property_value</th>\n",
       "      <td>15098</td>\n",
       "      <td>10.155378</td>\n",
       "    </tr>\n",
       "    <tr>\n",
       "      <th>income</th>\n",
       "      <td>9150</td>\n",
       "      <td>6.154571</td>\n",
       "    </tr>\n",
       "    <tr>\n",
       "      <th>loan_limit</th>\n",
       "      <td>3344</td>\n",
       "      <td>2.249277</td>\n",
       "    </tr>\n",
       "    <tr>\n",
       "      <th>approv_in_adv</th>\n",
       "      <td>908</td>\n",
       "      <td>0.610749</td>\n",
       "    </tr>\n",
       "    <tr>\n",
       "      <th>submission_of_application</th>\n",
       "      <td>200</td>\n",
       "      <td>0.134526</td>\n",
       "    </tr>\n",
       "    <tr>\n",
       "      <th>age</th>\n",
       "      <td>200</td>\n",
       "      <td>0.134526</td>\n",
       "    </tr>\n",
       "    <tr>\n",
       "      <th>loan_purpose</th>\n",
       "      <td>134</td>\n",
       "      <td>0.090133</td>\n",
       "    </tr>\n",
       "    <tr>\n",
       "      <th>neg_ammortization</th>\n",
       "      <td>121</td>\n",
       "      <td>0.081388</td>\n",
       "    </tr>\n",
       "    <tr>\n",
       "      <th>term</th>\n",
       "      <td>41</td>\n",
       "      <td>0.027578</td>\n",
       "    </tr>\n",
       "    <tr>\n",
       "      <th>region</th>\n",
       "      <td>0</td>\n",
       "      <td>0.000000</td>\n",
       "    </tr>\n",
       "    <tr>\n",
       "      <th>total_units</th>\n",
       "      <td>0</td>\n",
       "      <td>0.000000</td>\n",
       "    </tr>\n",
       "    <tr>\n",
       "      <th>security_type</th>\n",
       "      <td>0</td>\n",
       "      <td>0.000000</td>\n",
       "    </tr>\n",
       "    <tr>\n",
       "      <th>status</th>\n",
       "      <td>0</td>\n",
       "      <td>0.000000</td>\n",
       "    </tr>\n",
       "    <tr>\n",
       "      <th>co-applicant_credit_type</th>\n",
       "      <td>0</td>\n",
       "      <td>0.000000</td>\n",
       "    </tr>\n",
       "    <tr>\n",
       "      <th>credit_score</th>\n",
       "      <td>0</td>\n",
       "      <td>0.000000</td>\n",
       "    </tr>\n",
       "    <tr>\n",
       "      <th>credit_type</th>\n",
       "      <td>0</td>\n",
       "      <td>0.000000</td>\n",
       "    </tr>\n",
       "    <tr>\n",
       "      <th>id</th>\n",
       "      <td>0</td>\n",
       "      <td>0.000000</td>\n",
       "    </tr>\n",
       "    <tr>\n",
       "      <th>secured_by</th>\n",
       "      <td>0</td>\n",
       "      <td>0.000000</td>\n",
       "    </tr>\n",
       "    <tr>\n",
       "      <th>occupancy_type</th>\n",
       "      <td>0</td>\n",
       "      <td>0.000000</td>\n",
       "    </tr>\n",
       "    <tr>\n",
       "      <th>construction_type</th>\n",
       "      <td>0</td>\n",
       "      <td>0.000000</td>\n",
       "    </tr>\n",
       "    <tr>\n",
       "      <th>year</th>\n",
       "      <td>0</td>\n",
       "      <td>0.000000</td>\n",
       "    </tr>\n",
       "    <tr>\n",
       "      <th>interest_only</th>\n",
       "      <td>0</td>\n",
       "      <td>0.000000</td>\n",
       "    </tr>\n",
       "    <tr>\n",
       "      <th>loan_amount</th>\n",
       "      <td>0</td>\n",
       "      <td>0.000000</td>\n",
       "    </tr>\n",
       "    <tr>\n",
       "      <th>business_or_commercial</th>\n",
       "      <td>0</td>\n",
       "      <td>0.000000</td>\n",
       "    </tr>\n",
       "    <tr>\n",
       "      <th>open_credit</th>\n",
       "      <td>0</td>\n",
       "      <td>0.000000</td>\n",
       "    </tr>\n",
       "    <tr>\n",
       "      <th>credit_worthiness</th>\n",
       "      <td>0</td>\n",
       "      <td>0.000000</td>\n",
       "    </tr>\n",
       "    <tr>\n",
       "      <th>loan_type</th>\n",
       "      <td>0</td>\n",
       "      <td>0.000000</td>\n",
       "    </tr>\n",
       "    <tr>\n",
       "      <th>gender</th>\n",
       "      <td>0</td>\n",
       "      <td>0.000000</td>\n",
       "    </tr>\n",
       "    <tr>\n",
       "      <th>lump_sum_payment</th>\n",
       "      <td>0</td>\n",
       "      <td>0.000000</td>\n",
       "    </tr>\n",
       "  </tbody>\n",
       "</table>\n",
       "</div>"
      ],
      "text/plain": [
       "                           count          %\n",
       "upfront_charges            39642  26.664425\n",
       "interest_rate_spread       36639  24.644515\n",
       "rate_of_interest           36439  24.509989\n",
       "dtir1                      24121  16.224524\n",
       "ltv                        15098  10.155378\n",
       "property_value             15098  10.155378\n",
       "income                      9150   6.154571\n",
       "loan_limit                  3344   2.249277\n",
       "approv_in_adv                908   0.610749\n",
       "submission_of_application    200   0.134526\n",
       "age                          200   0.134526\n",
       "loan_purpose                 134   0.090133\n",
       "neg_ammortization            121   0.081388\n",
       "term                          41   0.027578\n",
       "region                         0   0.000000\n",
       "total_units                    0   0.000000\n",
       "security_type                  0   0.000000\n",
       "status                         0   0.000000\n",
       "co-applicant_credit_type       0   0.000000\n",
       "credit_score                   0   0.000000\n",
       "credit_type                    0   0.000000\n",
       "id                             0   0.000000\n",
       "secured_by                     0   0.000000\n",
       "occupancy_type                 0   0.000000\n",
       "construction_type              0   0.000000\n",
       "year                           0   0.000000\n",
       "interest_only                  0   0.000000\n",
       "loan_amount                    0   0.000000\n",
       "business_or_commercial         0   0.000000\n",
       "open_credit                    0   0.000000\n",
       "credit_worthiness              0   0.000000\n",
       "loan_type                      0   0.000000\n",
       "gender                         0   0.000000\n",
       "lump_sum_payment               0   0.000000"
      ]
     },
     "execution_count": 23,
     "metadata": {},
     "output_type": "execute_result"
    }
   ],
   "source": [
    "#Count (using `.sum()`) the number of missing values (`.isnull()`) in each column of \n",
    "#ski_data as well as the percentages (using `.mean()` instead of `.sum()`).\n",
    "#Order them (increasing or decreasing) using sort_values\n",
    "#Call `pd.concat` to present these in a single table (DataFrame) with the helpful column names 'count' and '%'\n",
    "missing = pd.concat([loan_data.isnull().sum(), 100 * loan_data.isnull().mean()], axis=1)\n",
    "missing.columns=['count', '%']\n",
    "missing.sort_values(by='count', ascending=False)"
   ]
  },
  {
   "cell_type": "markdown",
   "metadata": {},
   "source": [
    "We can see many columns with null values. We start working with them based on their data type."
   ]
  },
  {
   "cell_type": "code",
   "execution_count": 24,
   "metadata": {},
   "outputs": [
    {
     "name": "stdout",
     "output_type": "stream",
     "text": [
      "<class 'pandas.core.frame.DataFrame'>\n",
      "RangeIndex: 148670 entries, 0 to 148669\n",
      "Data columns (total 34 columns):\n",
      " #   Column                     Non-Null Count   Dtype  \n",
      "---  ------                     --------------   -----  \n",
      " 0   id                         148670 non-null  int64  \n",
      " 1   year                       148670 non-null  int64  \n",
      " 2   loan_limit                 145326 non-null  object \n",
      " 3   gender                     148670 non-null  object \n",
      " 4   approv_in_adv              147762 non-null  object \n",
      " 5   loan_type                  148670 non-null  object \n",
      " 6   loan_purpose               148536 non-null  object \n",
      " 7   credit_worthiness          148670 non-null  object \n",
      " 8   open_credit                148670 non-null  object \n",
      " 9   business_or_commercial     148670 non-null  object \n",
      " 10  loan_amount                148670 non-null  int64  \n",
      " 11  rate_of_interest           112231 non-null  float64\n",
      " 12  interest_rate_spread       112031 non-null  float64\n",
      " 13  upfront_charges            109028 non-null  float64\n",
      " 14  term                       148629 non-null  float64\n",
      " 15  neg_ammortization          148549 non-null  object \n",
      " 16  interest_only              148670 non-null  object \n",
      " 17  lump_sum_payment           148670 non-null  object \n",
      " 18  property_value             133572 non-null  float64\n",
      " 19  construction_type          148670 non-null  object \n",
      " 20  occupancy_type             148670 non-null  object \n",
      " 21  secured_by                 148670 non-null  object \n",
      " 22  total_units                148670 non-null  object \n",
      " 23  income                     139520 non-null  float64\n",
      " 24  credit_type                148670 non-null  object \n",
      " 25  credit_score               148670 non-null  int64  \n",
      " 26  co-applicant_credit_type   148670 non-null  object \n",
      " 27  age                        148470 non-null  object \n",
      " 28  submission_of_application  148470 non-null  object \n",
      " 29  ltv                        133572 non-null  float64\n",
      " 30  region                     148670 non-null  object \n",
      " 31  security_type              148670 non-null  object \n",
      " 32  status                     148670 non-null  int64  \n",
      " 33  dtir1                      124549 non-null  float64\n",
      "dtypes: float64(8), int64(5), object(21)\n",
      "memory usage: 38.6+ MB\n"
     ]
    }
   ],
   "source": [
    "loan_data.info()"
   ]
  },
  {
   "cell_type": "markdown",
   "metadata": {},
   "source": [
    "### 3.2 Divide and conquer <a id='2.6.2_Number_Of_Missing_Values_By_Column'></a>"
   ]
  },
  {
   "cell_type": "markdown",
   "metadata": {},
   "source": [
    "Devide data for categorical and numerical values and handle each of them separately."
   ]
  },
  {
   "cell_type": "code",
   "execution_count": 25,
   "metadata": {},
   "outputs": [],
   "source": [
    "dtypes = pd.DataFrame(loan_data.dtypes).reset_index()\n",
    "\n",
    "categ_type = []\n",
    "numer_type = []\n",
    "for i, l in zip(dtypes['index'], dtypes[0]):\n",
    "    if l == 'object':\n",
    "        categ_type.append(i)\n",
    "    else:\n",
    "        numer_type.append(i)"
   ]
  },
  {
   "cell_type": "code",
   "execution_count": 30,
   "metadata": {},
   "outputs": [
    {
     "name": "stdout",
     "output_type": "stream",
     "text": [
      "id                      0\n",
      "year                    0\n",
      "loan_amount             0\n",
      "rate_of_interest        0\n",
      "interest_rate_spread    0\n",
      "upfront_charges         0\n",
      "term                    0\n",
      "property_value          0\n",
      "income                  0\n",
      "credit_score            0\n",
      "ltv                     0\n",
      "status                  0\n",
      "dtir1                   0\n",
      "dtype: int64\n"
     ]
    }
   ],
   "source": [
    "#Start with numeric data type\n",
    "loan_data_num = loan_data[numer_type]\n",
    "\n",
    "#knn\n",
    "knn = KNNImputer(n_neighbors = 3)\n",
    "knn.fit(loan_data_num)\n",
    "X = knn.fit_transform(loan_data_num)\n",
    "\n",
    "#Check for any nas\n",
    "loan_data_num = pd.DataFrame(X, columns=numer_type)\n",
    "nas_num = loan_data_num.isna().sum()\n",
    "print(nas_num)\n"
   ]
  },
  {
   "cell_type": "code",
   "execution_count": 31,
   "metadata": {},
   "outputs": [
    {
     "name": "stderr",
     "output_type": "stream",
     "text": [
      "C:\\Users\\bayar\\AppData\\Local\\Temp\\ipykernel_12724\\3135984884.py:7: SettingWithCopyWarning: \n",
      "A value is trying to be set on a copy of a slice from a DataFrame\n",
      "\n",
      "See the caveats in the documentation: https://pandas.pydata.org/pandas-docs/stable/user_guide/indexing.html#returning-a-view-versus-a-copy\n",
      "  loan_data_cat[i].fillna(value=mode, inplace=True)\n",
      "C:\\Users\\bayar\\AppData\\Local\\Temp\\ipykernel_12724\\3135984884.py:7: SettingWithCopyWarning: \n",
      "A value is trying to be set on a copy of a slice from a DataFrame\n",
      "\n",
      "See the caveats in the documentation: https://pandas.pydata.org/pandas-docs/stable/user_guide/indexing.html#returning-a-view-versus-a-copy\n",
      "  loan_data_cat[i].fillna(value=mode, inplace=True)\n",
      "C:\\Users\\bayar\\AppData\\Local\\Temp\\ipykernel_12724\\3135984884.py:7: SettingWithCopyWarning: \n",
      "A value is trying to be set on a copy of a slice from a DataFrame\n",
      "\n",
      "See the caveats in the documentation: https://pandas.pydata.org/pandas-docs/stable/user_guide/indexing.html#returning-a-view-versus-a-copy\n",
      "  loan_data_cat[i].fillna(value=mode, inplace=True)\n",
      "C:\\Users\\bayar\\AppData\\Local\\Temp\\ipykernel_12724\\3135984884.py:7: SettingWithCopyWarning: \n",
      "A value is trying to be set on a copy of a slice from a DataFrame\n",
      "\n",
      "See the caveats in the documentation: https://pandas.pydata.org/pandas-docs/stable/user_guide/indexing.html#returning-a-view-versus-a-copy\n",
      "  loan_data_cat[i].fillna(value=mode, inplace=True)\n",
      "C:\\Users\\bayar\\AppData\\Local\\Temp\\ipykernel_12724\\3135984884.py:7: SettingWithCopyWarning: \n",
      "A value is trying to be set on a copy of a slice from a DataFrame\n",
      "\n",
      "See the caveats in the documentation: https://pandas.pydata.org/pandas-docs/stable/user_guide/indexing.html#returning-a-view-versus-a-copy\n",
      "  loan_data_cat[i].fillna(value=mode, inplace=True)\n",
      "C:\\Users\\bayar\\AppData\\Local\\Temp\\ipykernel_12724\\3135984884.py:7: SettingWithCopyWarning: \n",
      "A value is trying to be set on a copy of a slice from a DataFrame\n",
      "\n",
      "See the caveats in the documentation: https://pandas.pydata.org/pandas-docs/stable/user_guide/indexing.html#returning-a-view-versus-a-copy\n",
      "  loan_data_cat[i].fillna(value=mode, inplace=True)\n",
      "C:\\Users\\bayar\\AppData\\Local\\Temp\\ipykernel_12724\\3135984884.py:7: SettingWithCopyWarning: \n",
      "A value is trying to be set on a copy of a slice from a DataFrame\n",
      "\n",
      "See the caveats in the documentation: https://pandas.pydata.org/pandas-docs/stable/user_guide/indexing.html#returning-a-view-versus-a-copy\n",
      "  loan_data_cat[i].fillna(value=mode, inplace=True)\n",
      "C:\\Users\\bayar\\AppData\\Local\\Temp\\ipykernel_12724\\3135984884.py:7: SettingWithCopyWarning: \n",
      "A value is trying to be set on a copy of a slice from a DataFrame\n",
      "\n",
      "See the caveats in the documentation: https://pandas.pydata.org/pandas-docs/stable/user_guide/indexing.html#returning-a-view-versus-a-copy\n",
      "  loan_data_cat[i].fillna(value=mode, inplace=True)\n",
      "C:\\Users\\bayar\\AppData\\Local\\Temp\\ipykernel_12724\\3135984884.py:7: SettingWithCopyWarning: \n",
      "A value is trying to be set on a copy of a slice from a DataFrame\n",
      "\n",
      "See the caveats in the documentation: https://pandas.pydata.org/pandas-docs/stable/user_guide/indexing.html#returning-a-view-versus-a-copy\n",
      "  loan_data_cat[i].fillna(value=mode, inplace=True)\n",
      "C:\\Users\\bayar\\AppData\\Local\\Temp\\ipykernel_12724\\3135984884.py:7: SettingWithCopyWarning: \n",
      "A value is trying to be set on a copy of a slice from a DataFrame\n",
      "\n",
      "See the caveats in the documentation: https://pandas.pydata.org/pandas-docs/stable/user_guide/indexing.html#returning-a-view-versus-a-copy\n",
      "  loan_data_cat[i].fillna(value=mode, inplace=True)\n",
      "C:\\Users\\bayar\\AppData\\Local\\Temp\\ipykernel_12724\\3135984884.py:7: SettingWithCopyWarning: \n",
      "A value is trying to be set on a copy of a slice from a DataFrame\n",
      "\n",
      "See the caveats in the documentation: https://pandas.pydata.org/pandas-docs/stable/user_guide/indexing.html#returning-a-view-versus-a-copy\n",
      "  loan_data_cat[i].fillna(value=mode, inplace=True)\n",
      "C:\\Users\\bayar\\AppData\\Local\\Temp\\ipykernel_12724\\3135984884.py:7: SettingWithCopyWarning: \n",
      "A value is trying to be set on a copy of a slice from a DataFrame\n",
      "\n",
      "See the caveats in the documentation: https://pandas.pydata.org/pandas-docs/stable/user_guide/indexing.html#returning-a-view-versus-a-copy\n",
      "  loan_data_cat[i].fillna(value=mode, inplace=True)\n",
      "C:\\Users\\bayar\\AppData\\Local\\Temp\\ipykernel_12724\\3135984884.py:7: SettingWithCopyWarning: \n",
      "A value is trying to be set on a copy of a slice from a DataFrame\n",
      "\n",
      "See the caveats in the documentation: https://pandas.pydata.org/pandas-docs/stable/user_guide/indexing.html#returning-a-view-versus-a-copy\n",
      "  loan_data_cat[i].fillna(value=mode, inplace=True)\n",
      "C:\\Users\\bayar\\AppData\\Local\\Temp\\ipykernel_12724\\3135984884.py:7: SettingWithCopyWarning: \n",
      "A value is trying to be set on a copy of a slice from a DataFrame\n",
      "\n",
      "See the caveats in the documentation: https://pandas.pydata.org/pandas-docs/stable/user_guide/indexing.html#returning-a-view-versus-a-copy\n",
      "  loan_data_cat[i].fillna(value=mode, inplace=True)\n",
      "C:\\Users\\bayar\\AppData\\Local\\Temp\\ipykernel_12724\\3135984884.py:7: SettingWithCopyWarning: \n",
      "A value is trying to be set on a copy of a slice from a DataFrame\n",
      "\n",
      "See the caveats in the documentation: https://pandas.pydata.org/pandas-docs/stable/user_guide/indexing.html#returning-a-view-versus-a-copy\n",
      "  loan_data_cat[i].fillna(value=mode, inplace=True)\n",
      "C:\\Users\\bayar\\AppData\\Local\\Temp\\ipykernel_12724\\3135984884.py:7: SettingWithCopyWarning: \n",
      "A value is trying to be set on a copy of a slice from a DataFrame\n",
      "\n",
      "See the caveats in the documentation: https://pandas.pydata.org/pandas-docs/stable/user_guide/indexing.html#returning-a-view-versus-a-copy\n",
      "  loan_data_cat[i].fillna(value=mode, inplace=True)\n",
      "C:\\Users\\bayar\\AppData\\Local\\Temp\\ipykernel_12724\\3135984884.py:7: SettingWithCopyWarning: \n",
      "A value is trying to be set on a copy of a slice from a DataFrame\n",
      "\n",
      "See the caveats in the documentation: https://pandas.pydata.org/pandas-docs/stable/user_guide/indexing.html#returning-a-view-versus-a-copy\n",
      "  loan_data_cat[i].fillna(value=mode, inplace=True)\n",
      "C:\\Users\\bayar\\AppData\\Local\\Temp\\ipykernel_12724\\3135984884.py:7: SettingWithCopyWarning: \n",
      "A value is trying to be set on a copy of a slice from a DataFrame\n",
      "\n",
      "See the caveats in the documentation: https://pandas.pydata.org/pandas-docs/stable/user_guide/indexing.html#returning-a-view-versus-a-copy\n",
      "  loan_data_cat[i].fillna(value=mode, inplace=True)\n",
      "C:\\Users\\bayar\\AppData\\Local\\Temp\\ipykernel_12724\\3135984884.py:7: SettingWithCopyWarning: \n",
      "A value is trying to be set on a copy of a slice from a DataFrame\n",
      "\n",
      "See the caveats in the documentation: https://pandas.pydata.org/pandas-docs/stable/user_guide/indexing.html#returning-a-view-versus-a-copy\n",
      "  loan_data_cat[i].fillna(value=mode, inplace=True)\n",
      "C:\\Users\\bayar\\AppData\\Local\\Temp\\ipykernel_12724\\3135984884.py:7: SettingWithCopyWarning: \n",
      "A value is trying to be set on a copy of a slice from a DataFrame\n",
      "\n",
      "See the caveats in the documentation: https://pandas.pydata.org/pandas-docs/stable/user_guide/indexing.html#returning-a-view-versus-a-copy\n",
      "  loan_data_cat[i].fillna(value=mode, inplace=True)\n",
      "C:\\Users\\bayar\\AppData\\Local\\Temp\\ipykernel_12724\\3135984884.py:7: SettingWithCopyWarning: \n",
      "A value is trying to be set on a copy of a slice from a DataFrame\n",
      "\n",
      "See the caveats in the documentation: https://pandas.pydata.org/pandas-docs/stable/user_guide/indexing.html#returning-a-view-versus-a-copy\n",
      "  loan_data_cat[i].fillna(value=mode, inplace=True)\n"
     ]
    },
    {
     "name": "stdout",
     "output_type": "stream",
     "text": [
      "loan_limit                   0\n",
      "gender                       0\n",
      "approv_in_adv                0\n",
      "loan_type                    0\n",
      "loan_purpose                 0\n",
      "credit_worthiness            0\n",
      "open_credit                  0\n",
      "business_or_commercial       0\n",
      "neg_ammortization            0\n",
      "interest_only                0\n",
      "lump_sum_payment             0\n",
      "construction_type            0\n",
      "occupancy_type               0\n",
      "secured_by                   0\n",
      "total_units                  0\n",
      "credit_type                  0\n",
      "co-applicant_credit_type     0\n",
      "age                          0\n",
      "submission_of_application    0\n",
      "region                       0\n",
      "security_type                0\n",
      "dtype: int64\n"
     ]
    }
   ],
   "source": [
    "# Categorical data type\n",
    "loan_data_cat = loan_data[categ_type]\n",
    "\n",
    "for i in categ_type:\n",
    "    mode = loan_data[i].mode()\n",
    "    mode = mode[0]\n",
    "    loan_data_cat[i].fillna(value=mode, inplace=True)\n",
    "\n",
    "# Check for any nas\n",
    "nas_cat = loan_data_cat.isna().sum()\n",
    "print(nas_cat)"
   ]
  },
  {
   "cell_type": "code",
   "execution_count": 36,
   "metadata": {},
   "outputs": [
    {
     "name": "stdout",
     "output_type": "stream",
     "text": [
      "<class 'pandas.core.frame.DataFrame'>\n",
      "RangeIndex: 148670 entries, 0 to 148669\n",
      "Data columns (total 21 columns):\n",
      " #   Column                     Non-Null Count   Dtype \n",
      "---  ------                     --------------   ----- \n",
      " 0   loan_limit                 148670 non-null  object\n",
      " 1   gender                     148670 non-null  object\n",
      " 2   approv_in_adv              148670 non-null  object\n",
      " 3   loan_type                  148670 non-null  object\n",
      " 4   loan_purpose               148670 non-null  object\n",
      " 5   credit_worthiness          148670 non-null  object\n",
      " 6   open_credit                148670 non-null  object\n",
      " 7   business_or_commercial     148670 non-null  object\n",
      " 8   neg_ammortization          148670 non-null  object\n",
      " 9   interest_only              148670 non-null  object\n",
      " 10  lump_sum_payment           148670 non-null  object\n",
      " 11  construction_type          148670 non-null  object\n",
      " 12  occupancy_type             148670 non-null  object\n",
      " 13  secured_by                 148670 non-null  object\n",
      " 14  total_units                148670 non-null  object\n",
      " 15  credit_type                148670 non-null  object\n",
      " 16  co-applicant_credit_type   148670 non-null  object\n",
      " 17  age                        148670 non-null  object\n",
      " 18  submission_of_application  148670 non-null  object\n",
      " 19  region                     148670 non-null  object\n",
      " 20  security_type              148670 non-null  object\n",
      "dtypes: object(21)\n",
      "memory usage: 23.8+ MB\n"
     ]
    }
   ],
   "source": [
    "loan_data_cat.info()"
   ]
  },
  {
   "cell_type": "markdown",
   "metadata": {},
   "source": [
    "Convert our categorical data into numerical for machine learning model."
   ]
  },
  {
   "cell_type": "code",
   "execution_count": 39,
   "metadata": {},
   "outputs": [],
   "source": [
    "loan_data_cat = pd.get_dummies(loan_data_cat, columns=categ_type, drop_first=True)"
   ]
  },
  {
   "cell_type": "code",
   "execution_count": 40,
   "metadata": {},
   "outputs": [
    {
     "name": "stdout",
     "output_type": "stream",
     "text": [
      "<class 'pandas.core.frame.DataFrame'>\n",
      "RangeIndex: 148670 entries, 0 to 148669\n",
      "Data columns (total 38 columns):\n",
      " #   Column                             Non-Null Count   Dtype\n",
      "---  ------                             --------------   -----\n",
      " 0   loan_limit_ncf                     148670 non-null  uint8\n",
      " 1   gender_Joint                       148670 non-null  uint8\n",
      " 2   gender_Male                        148670 non-null  uint8\n",
      " 3   gender_Sex Not Available           148670 non-null  uint8\n",
      " 4   approv_in_adv_pre                  148670 non-null  uint8\n",
      " 5   loan_type_type2                    148670 non-null  uint8\n",
      " 6   loan_type_type3                    148670 non-null  uint8\n",
      " 7   loan_purpose_p2                    148670 non-null  uint8\n",
      " 8   loan_purpose_p3                    148670 non-null  uint8\n",
      " 9   loan_purpose_p4                    148670 non-null  uint8\n",
      " 10  credit_worthiness_l2               148670 non-null  uint8\n",
      " 11  open_credit_opc                    148670 non-null  uint8\n",
      " 12  business_or_commercial_nob/c       148670 non-null  uint8\n",
      " 13  neg_ammortization_not_neg          148670 non-null  uint8\n",
      " 14  interest_only_not_int              148670 non-null  uint8\n",
      " 15  lump_sum_payment_not_lpsm          148670 non-null  uint8\n",
      " 16  construction_type_sb               148670 non-null  uint8\n",
      " 17  occupancy_type_pr                  148670 non-null  uint8\n",
      " 18  occupancy_type_sr                  148670 non-null  uint8\n",
      " 19  secured_by_land                    148670 non-null  uint8\n",
      " 20  total_units_2U                     148670 non-null  uint8\n",
      " 21  total_units_3U                     148670 non-null  uint8\n",
      " 22  total_units_4U                     148670 non-null  uint8\n",
      " 23  credit_type_CRIF                   148670 non-null  uint8\n",
      " 24  credit_type_EQUI                   148670 non-null  uint8\n",
      " 25  credit_type_EXP                    148670 non-null  uint8\n",
      " 26  co-applicant_credit_type_EXP       148670 non-null  uint8\n",
      " 27  age_35-44                          148670 non-null  uint8\n",
      " 28  age_45-54                          148670 non-null  uint8\n",
      " 29  age_55-64                          148670 non-null  uint8\n",
      " 30  age_65-74                          148670 non-null  uint8\n",
      " 31  age_<25                            148670 non-null  uint8\n",
      " 32  age_>74                            148670 non-null  uint8\n",
      " 33  submission_of_application_to_inst  148670 non-null  uint8\n",
      " 34  region_North-East                  148670 non-null  uint8\n",
      " 35  region_central                     148670 non-null  uint8\n",
      " 36  region_south                       148670 non-null  uint8\n",
      " 37  security_type_direct               148670 non-null  uint8\n",
      "dtypes: uint8(38)\n",
      "memory usage: 5.4 MB\n"
     ]
    }
   ],
   "source": [
    "loan_data_cat.info()"
   ]
  },
  {
   "cell_type": "code",
   "execution_count": null,
   "metadata": {},
   "outputs": [],
   "source": [
    "# Combining dataframes\n",
    "loan_data_comb = pd.concat([loan_data_num, loan_data_cat], axis=1, join='inner')"
   ]
  },
  {
   "cell_type": "code",
   "execution_count": 41,
   "metadata": {},
   "outputs": [
    {
     "name": "stdout",
     "output_type": "stream",
     "text": [
      "<class 'pandas.core.frame.DataFrame'>\n",
      "RangeIndex: 148670 entries, 0 to 148669\n",
      "Data columns (total 38 columns):\n",
      " #   Column                             Non-Null Count   Dtype\n",
      "---  ------                             --------------   -----\n",
      " 0   loan_limit_ncf                     148670 non-null  uint8\n",
      " 1   gender_Joint                       148670 non-null  uint8\n",
      " 2   gender_Male                        148670 non-null  uint8\n",
      " 3   gender_Sex Not Available           148670 non-null  uint8\n",
      " 4   approv_in_adv_pre                  148670 non-null  uint8\n",
      " 5   loan_type_type2                    148670 non-null  uint8\n",
      " 6   loan_type_type3                    148670 non-null  uint8\n",
      " 7   loan_purpose_p2                    148670 non-null  uint8\n",
      " 8   loan_purpose_p3                    148670 non-null  uint8\n",
      " 9   loan_purpose_p4                    148670 non-null  uint8\n",
      " 10  credit_worthiness_l2               148670 non-null  uint8\n",
      " 11  open_credit_opc                    148670 non-null  uint8\n",
      " 12  business_or_commercial_nob/c       148670 non-null  uint8\n",
      " 13  neg_ammortization_not_neg          148670 non-null  uint8\n",
      " 14  interest_only_not_int              148670 non-null  uint8\n",
      " 15  lump_sum_payment_not_lpsm          148670 non-null  uint8\n",
      " 16  construction_type_sb               148670 non-null  uint8\n",
      " 17  occupancy_type_pr                  148670 non-null  uint8\n",
      " 18  occupancy_type_sr                  148670 non-null  uint8\n",
      " 19  secured_by_land                    148670 non-null  uint8\n",
      " 20  total_units_2U                     148670 non-null  uint8\n",
      " 21  total_units_3U                     148670 non-null  uint8\n",
      " 22  total_units_4U                     148670 non-null  uint8\n",
      " 23  credit_type_CRIF                   148670 non-null  uint8\n",
      " 24  credit_type_EQUI                   148670 non-null  uint8\n",
      " 25  credit_type_EXP                    148670 non-null  uint8\n",
      " 26  co-applicant_credit_type_EXP       148670 non-null  uint8\n",
      " 27  age_35-44                          148670 non-null  uint8\n",
      " 28  age_45-54                          148670 non-null  uint8\n",
      " 29  age_55-64                          148670 non-null  uint8\n",
      " 30  age_65-74                          148670 non-null  uint8\n",
      " 31  age_<25                            148670 non-null  uint8\n",
      " 32  age_>74                            148670 non-null  uint8\n",
      " 33  submission_of_application_to_inst  148670 non-null  uint8\n",
      " 34  region_North-East                  148670 non-null  uint8\n",
      " 35  region_central                     148670 non-null  uint8\n",
      " 36  region_south                       148670 non-null  uint8\n",
      " 37  security_type_direct               148670 non-null  uint8\n",
      "dtypes: uint8(38)\n",
      "memory usage: 5.4 MB\n"
     ]
    }
   ],
   "source": [
    "loan_data.info()"
   ]
  },
  {
   "cell_type": "code",
   "execution_count": 33,
   "metadata": {},
   "outputs": [
    {
     "data": {
      "image/png": "[encoded data removed]",
      "text/plain": [
       "<Figure size 1800x720 with 2 Axes>"
      ]
     },
     "metadata": {
      "needs_background": "light"
     },
     "output_type": "display_data"
    },
    {
     "data": {
      "text/plain": [
       "<Figure size 1080x648 with 0 Axes>"
      ]
     },
     "metadata": {},
     "output_type": "display_data"
    }
   ],
   "source": [
    "import missingno as msno\n",
    "\n",
    "# Full dataframe visualization of null values\n",
    "msno.matrix(loan_data_comb)\n",
    "plt.figure(figsize = (15,9))\n",
    "plt.show()"
   ]
  },
  {
   "cell_type": "markdown",
   "metadata": {},
   "source": [
    "Now all our dataset is clean and ready to be used for training."
   ]
  },
  {
   "cell_type": "markdown",
   "metadata": {},
   "source": [
    "## Summary <a id='2.7_Derive_State-wide_Summary_Statistics_For_Our_Market_Segment'></a>"
   ]
  },
  {
   "cell_type": "markdown",
   "metadata": {},
   "source": [
    "Drawing from the information provided, it can be inferred that:\n",
    "\n",
    "1) There are 148,670 Rows and 34 Columns in dataset.\n",
    "\n",
    "3) We examined some application features in-depth, such as loan amount, age, rate of interest, status, property value, income. \n",
    "\n",
    "4) As the result after cleaning data the final document contains only 277 rows.\n",
    "\n",
    "5) Then we checked for duplicated entries and filled missing values.\n",
    "\n",
    "6) The last step was to convert all values to numerical values for our machine learning model."
   ]
  },
  {
   "cell_type": "code",
   "execution_count": null,
   "metadata": {},
   "outputs": [],
   "source": []
  }
 ],
 "metadata": {
  "kernelspec": {
   "display_name": "Python 3 (ipykernel)",
   "language": "python",
   "name": "python3"
  },
  "language_info": {
   "codemirror_mode": {
    "name": "ipython",
    "version": 3
   },
   "file_extension": ".py",
   "mimetype": "text/x-python",
   "name": "python",
   "nbconvert_exporter": "python",
   "pygments_lexer": "ipython3",
   "version": "3.9.12"
  },
  "toc": {
   "base_numbering": 1,
   "nav_menu": {},
   "number_sections": true,
   "sideBar": true,
   "skip_h1_title": false,
   "title_cell": "Table of Contents",
   "title_sidebar": "Contents",
   "toc_cell": false,
   "toc_position": {},
   "toc_section_display": true,
   "toc_window_display": true
  },
  "varInspector": {
   "cols": {
    "lenName": 16,
    "lenType": 16,
    "lenVar": 40
   },
   "kernels_config": {
    "python": {
     "delete_cmd_postfix": "",
     "delete_cmd_prefix": "del ",
     "library": "var_list.py",
     "varRefreshCmd": "print(var_dic_list())"
    },
    "r": {
     "delete_cmd_postfix": ") ",
     "delete_cmd_prefix": "rm(",
     "library": "var_list.r",
     "varRefreshCmd": "cat(var_dic_list()) "
    }
   },
   "types_to_exclude": [
    "module",
    "function",
    "builtin_function_or_method",
    "instance",
    "_Feature"
   ],
   "window_display": false
  }
 },
 "nbformat": 4,
 "nbformat_minor": 4
}
